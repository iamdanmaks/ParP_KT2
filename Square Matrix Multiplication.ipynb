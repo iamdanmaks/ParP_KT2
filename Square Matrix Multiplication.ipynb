{
 "cells": [
  {
   "cell_type": "code",
   "execution_count": 1,
   "metadata": {},
   "outputs": [
    {
     "data": {
      "text/plain": [
       "4-element Array{Int64,1}:\n",
       " 2\n",
       " 3\n",
       " 4\n",
       " 5"
      ]
     },
     "execution_count": 1,
     "metadata": {},
     "output_type": "execute_result"
    }
   ],
   "source": [
    "using Distributed\n",
    "addprocs(4)"
   ]
  },
  {
   "cell_type": "code",
   "execution_count": 2,
   "metadata": {},
   "outputs": [],
   "source": [
    "@everywhere using SharedArrays"
   ]
  },
  {
   "cell_type": "code",
   "execution_count": 3,
   "metadata": {},
   "outputs": [
    {
     "data": {
      "text/plain": [
       "multiply_matrices (generic function with 1 method)"
      ]
     },
     "execution_count": 3,
     "metadata": {},
     "output_type": "execute_result"
    }
   ],
   "source": [
    "function multiply_matrices(matr1, matr2, matr3)\n",
    "    dim = size(matr1, 2)\n",
    "    \n",
    "    @sync @distributed for i in 1:dim\n",
    "        for j in 1:dim\n",
    "            temp = 0\n",
    "            for k in 1:dim\n",
    "                temp += matr1[i, k] * matr2[k, j]\n",
    "            end\n",
    "            matr3[i, j] = temp\n",
    "        end\n",
    "    end\n",
    "end"
   ]
  },
  {
   "cell_type": "code",
   "execution_count": 17,
   "metadata": {},
   "outputs": [
    {
     "data": {
      "text/plain": [
       "multiply_matrices_non_parallel (generic function with 1 method)"
      ]
     },
     "execution_count": 17,
     "metadata": {},
     "output_type": "execute_result"
    }
   ],
   "source": [
    "function multiply_matrices_non_parallel(matr1, matr2, matr3)\n",
    "    dim = size(matr1, 2)\n",
    "    \n",
    "    for i in 1:dim+1\n",
    "        for j in 1:dim+1\n",
    "            temp = 0\n",
    "            for k in 1:dim+1\n",
    "                temp += matr1[i, k] * matr2[k, j]\n",
    "            end\n",
    "            matr3[i, j] = temp\n",
    "        end\n",
    "    end\n",
    "end"
   ]
  },
  {
   "cell_type": "code",
   "execution_count": 5,
   "metadata": {},
   "outputs": [
    {
     "data": {
      "text/plain": [
       "Dict{Int64,Dict{String,Real}} with 4 entries:\n",
       "  200 => Dict{String,Real}(\"par\"=>0.0,\"non_par\"=>0.0,\"iters\"=>1000)\n",
       "  100 => Dict{String,Real}(\"par\"=>0.0,\"non_par\"=>0.0,\"iters\"=>1000)\n",
       "  750 => Dict{String,Real}(\"par\"=>0.0,\"non_par\"=>0.0,\"iters\"=>50)\n",
       "  500 => Dict{String,Real}(\"par\"=>0.0,\"non_par\"=>0.0,\"iters\"=>150)"
      ]
     },
     "execution_count": 5,
     "metadata": {},
     "output_type": "execute_result"
    }
   ],
   "source": [
    "RESULTS = Dict(100 => Dict(\"par\" => 0.0, \"non_par\" => 0.0, \"iters\" => 1000), \n",
    "    200 => Dict(\"par\" => 0.0, \"non_par\" => 0.0, \"iters\" => 1000), 500 => Dict(\"par\" => 0.0, \"non_par\" => 0.0, \"iters\" => 150), \n",
    "    750 => Dict(\"par\" => 0.0, \"non_par\" => 0.0, \"iters\" => 50))"
   ]
  },
  {
   "cell_type": "code",
   "execution_count": 6,
   "metadata": {},
   "outputs": [
    {
     "name": "stdout",
     "output_type": "stream",
     "text": [
      "200 was done\n",
      "100 was done\n",
      "750 was done\n",
      "500 was done\n"
     ]
    }
   ],
   "source": [
    "for (k, v) in RESULTS\n",
    "    mt1 = rand(-100:100, k, k)\n",
    "    mt2 = rand(-100:100, k, k)\n",
    "    \n",
    "    let i = 0\n",
    "        while i < v[\"iters\"]\n",
    "            mt3 = convert(SharedArray, zeros(Int64, k, k))\n",
    "            mt4 = convert(SharedArray, zeros(Int64, k, k))\n",
    "            \n",
    "            v[\"par\"] += @elapsed multiply_matrices(mt1, mt2, mt3)\n",
    "            v[\"non_par\"] += @elapsed multiply_matrices_non_parallel(mt1, mt2, mt4)\n",
    "            \n",
    "            i += 1\n",
    "        end\n",
    "    end\n",
    "    \n",
    "    v[\"par\"] /= v[\"iters\"]\n",
    "    v[\"non_par\"] /= v[\"iters\"]\n",
    "    \n",
    "    println(\"$k was done\")    \n",
    "end"
   ]
  },
  {
   "cell_type": "code",
   "execution_count": 7,
   "metadata": {},
   "outputs": [
    {
     "data": {
      "text/plain": [
       "Dict{Int64,Dict{String,Real}} with 4 entries:\n",
       "  200 => Dict{String,Real}(\"par\"=>4.6996e-5,\"non_par\"=>3.35217e-5,\"iters\"=>1000)\n",
       "  100 => Dict{String,Real}(\"par\"=>1.17015e-5,\"non_par\"=>3.65096e-6,\"iters\"=>100…\n",
       "  750 => Dict{String,Real}(\"par\"=>0.060991,\"non_par\"=>0.0941401,\"iters\"=>50)\n",
       "  500 => Dict{String,Real}(\"par\"=>0.00651459,\"non_par\"=>0.00913465,\"iters\"=>150)"
      ]
     },
     "execution_count": 7,
     "metadata": {},
     "output_type": "execute_result"
    }
   ],
   "source": [
    "RESULTS"
   ]
  },
  {
   "cell_type": "code",
   "execution_count": null,
   "metadata": {},
   "outputs": [],
   "source": []
  }
 ],
 "metadata": {
  "kernelspec": {
   "display_name": "Julia 1.3.0",
   "language": "julia",
   "name": "julia-1.3"
  },
  "language_info": {
   "file_extension": ".jl",
   "mimetype": "application/julia",
   "name": "julia",
   "version": "1.3.0"
  }
 },
 "nbformat": 4,
 "nbformat_minor": 2
}
