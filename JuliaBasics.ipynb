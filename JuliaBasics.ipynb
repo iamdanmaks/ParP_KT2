{
 "cells": [
  {
   "cell_type": "markdown",
   "metadata": {},
   "source": [
    "Ця інструкція з базового використання Julia була написана під Julia 1.3.0, тож оскільки мова активно розвивається певні конструкруції з часом можуть зникнути чи змінитись."
   ]
  },
  {
   "cell_type": "code",
   "execution_count": 1,
   "metadata": {},
   "outputs": [],
   "source": [
    "#одностроковий коментар пишеться так само, як і в Python\n",
    "\n",
    "#=\n",
    "    Це \n",
    "    багатострокий \n",
    "    коментар.\n",
    "=#"
   ]
  },
  {
   "cell_type": "code",
   "execution_count": 79,
   "metadata": {},
   "outputs": [
    {
     "name": "stdout",
     "output_type": "stream",
     "text": [
      "Звичайна функція для друку\n",
      "Друк і перехід на новий\n",
      "рядок\n"
     ]
    }
   ],
   "source": [
    "print(\"Звичайна функція для\")\n",
    "print(\" друку\\n\")\n",
    "println(\"Друк і перехід на новий\")\n",
    "println(\"рядок\")"
   ]
  },
  {
   "cell_type": "markdown",
   "metadata": {},
   "source": [
    "# Базові типи даних і операції"
   ]
  },
  {
   "cell_type": "code",
   "execution_count": 7,
   "metadata": {},
   "outputs": [
    {
     "name": "stdout",
     "output_type": "stream",
     "text": [
      "Int64\n",
      "Float64\n",
      "Complex{Int64}\n",
      "Rational{Int64}\n"
     ]
    }
   ],
   "source": [
    "println(typeof(3))       # => Int64\n",
    "println(typeof(3.2))     # => Float64\n",
    "println(typeof(2 + 1im)) # => Комплексне{Int64}\n",
    "println(typeof(2 // 3))  # => Раціональне{Int64}"
   ]
  },
  {
   "cell_type": "code",
   "execution_count": 11,
   "metadata": {},
   "outputs": [
    {
     "name": "stdout",
     "output_type": "stream",
     "text": [
      "Додавання: 1 + 1 = 2\n",
      "Віднімання: 8 - 1 = 7\n",
      "Множення: 10 * 2 = 20\n",
      "Ділення: 35 / 5 = 7.0\n",
      "Ділення цілих завжди повертає Float64: Тип 10 / 2 = Float64\n",
      "Щоб поділити і отримати ціле використайте div: Тип 10 / 2 = Int64\n",
      "Щоб отримати другий множник виконайте наступне: 5 \\ 35 7.0\n",
      "Підвести число у ступінь: 2 ^ 2 = 4 Увага! Це не xor!\n",
      "Ділення з залишком: 12 % 10 = 2\n"
     ]
    }
   ],
   "source": [
    "#усі звичайні операції доступні у Julia\n",
    "\n",
    "println(\"Додавання: 1 + 1 = \", 1 + 1)\n",
    "println(\"Віднімання: 8 - 1 = \", 8 - 1)\n",
    "println(\"Множення: 10 * 2 = \", 10 * 2)\n",
    "println(\"Ділення: 35 / 5 = \", 35 / 5)\n",
    "println(\"Ділення цілих завжди повертає Float64: Тип 10 / 2 = \", typeof(10 / 2))\n",
    "println(\"Щоб поділити і отримати ціле використайте div: Тип 10 / 2 = \", \n",
    "            typeof(div(10, 2)))\n",
    "println(\"Щоб отримати другий множник виконайте наступне: 5 \\\\ 35 \", 5 \\ 35)\n",
    "println(\"Підвести число у ступінь: 2 ^ 2 = \", 2 ^ 2, \" Увага! Це не xor!\")\n",
    "println(\"Ділення з залишком: 12 % 10 = \", 12 % 10)"
   ]
  },
  {
   "cell_type": "code",
   "execution_count": 13,
   "metadata": {},
   "outputs": [
    {
     "data": {
      "text/plain": [
       "30"
      ]
     },
     "execution_count": 13,
     "metadata": {},
     "output_type": "execute_result"
    }
   ],
   "source": [
    "(1 + 2) * 10 #30"
   ]
  },
  {
   "cell_type": "markdown",
   "metadata": {},
   "source": [
    "На відміну від Python int можна переповнити. Потрібно використати big чи float, щоб вирішити проблему."
   ]
  },
  {
   "cell_type": "code",
   "execution_count": 15,
   "metadata": {},
   "outputs": [
    {
     "name": "stdout",
     "output_type": "stream",
     "text": [
      "-8446744073709551616\n",
      "10000000000000000000\n",
      "1.0e19\n",
      "1.0e19\n"
     ]
    }
   ],
   "source": [
    "println(10^19)      # => -8446744073709551616\n",
    "\n",
    "println(big(10)^19) # => 10000000000000000000\n",
    "println(1e19)       # => 1.0e19\n",
    "println(10.0^19)    # => 1.0e19"
   ]
  },
  {
   "cell_type": "markdown",
   "metadata": {},
   "source": [
    "Побітові операції"
   ]
  },
  {
   "cell_type": "code",
   "execution_count": 16,
   "metadata": {},
   "outputs": [
    {
     "name": "stdout",
     "output_type": "stream",
     "text": [
      "Побітове ні -3\n",
      "Побітове і 1\n",
      "Побітове або 6\n",
      "Побітовий xor 6\n",
      "Правий побітовий здвиг 1\n",
      "Арифметичний здвиг вправо 1\n",
      "Лівий побітовий/арифметичний здвиг 4\n"
     ]
    }
   ],
   "source": [
    "println(\"Побітове ні \", ~2)         # => -3\n",
    "println(\"Побітове і \", 3 & 5)      # => 1\n",
    "println(\"Побітове або \", 2 | 4)      # => 6\n",
    "println(\"Побітовий xor \", xor(2, 4))  # => 6\n",
    "println(\"Правий побітовий здвиг \", 2 >>> 1)    # => 1\n",
    "println(\"Арифметичний здвиг вправо \", 2 >> 1)     # => 1\n",
    "println(\"Лівий побітовий/арифметичний здвиг \", 2 << 1)     # => 4"
   ]
  },
  {
   "cell_type": "code",
   "execution_count": 17,
   "metadata": {},
   "outputs": [
    {
     "name": "stdout",
     "output_type": "stream",
     "text": [
      "false\n",
      "true\n",
      "true\n",
      "false\n",
      "false\n",
      "true\n",
      "true\n",
      "false\n",
      "true\n",
      "true\n",
      "true\n",
      "false\n"
     ]
    }
   ],
   "source": [
    "println(!true)   # => false\n",
    "println(!false)  # => true\n",
    "println(1 == 1)  # => true\n",
    "println(2 == 1)  # => false\n",
    "println(1 != 1)  # => false\n",
    "println(2 != 1)  # => true\n",
    "println(1 < 10)  # => true\n",
    "println(1 > 10)  # => false\n",
    "println(2 <= 2)  # => true\n",
    "println(2 >= 2)  # => true\n",
    "# Порівняння можна пов'язувати в одне\n",
    "println(1 < 2 < 3)  # => true\n",
    "println(2 < 3 < 2)  # => false"
   ]
  },
  {
   "cell_type": "markdown",
   "metadata": {},
   "source": [
    "Строки і символи"
   ]
  },
  {
   "cell_type": "code",
   "execution_count": 19,
   "metadata": {},
   "outputs": [
    {
     "name": "stdout",
     "output_type": "stream",
     "text": [
      "String\n",
      "Char\n"
     ]
    }
   ],
   "source": [
    "println(typeof(\"це строка\")) #string\n",
    "println(typeof('а')) #char"
   ]
  },
  {
   "cell_type": "code",
   "execution_count": 20,
   "metadata": {},
   "outputs": [
    {
     "data": {
      "text/plain": [
       "'T': ASCII/Unicode U+0054 (category Lu: Letter, uppercase)"
      ]
     },
     "execution_count": 20,
     "metadata": {},
     "output_type": "execute_result"
    }
   ],
   "source": [
    "# Julia індексує з 1\n",
    "ascii(\"This is a string\")[1]"
   ]
  },
  {
   "cell_type": "code",
   "execution_count": 21,
   "metadata": {},
   "outputs": [
    {
     "name": "stdout",
     "output_type": "stream",
     "text": [
      "true\n",
      "true\n",
      "true\n"
     ]
    }
   ],
   "source": [
    "# строки можна порівнювати лексикографічно\n",
    "\n",
    "println(\"good\" > \"bye\") # => true\n",
    "println(\"good\" == \"good\") # => true\n",
    "println(\"1 + 2 = 3\" == \"1 + 2 = $(1 + 2)\") # => true"
   ]
  },
  {
   "cell_type": "code",
   "execution_count": 22,
   "metadata": {},
   "outputs": [
    {
     "data": {
      "text/plain": [
       "\"2 + 2 = 4\""
      ]
     },
     "execution_count": 22,
     "metadata": {},
     "output_type": "execute_result"
    }
   ],
   "source": [
    "#форматування строк\n",
    "\"2 + 2 = $(2 + 2)\" # => \"2 + 2 = 4\""
   ]
  },
  {
   "cell_type": "markdown",
   "metadata": {},
   "source": [
    "# Змінні і колекції"
   ]
  },
  {
   "cell_type": "code",
   "execution_count": 24,
   "metadata": {},
   "outputs": [
    {
     "name": "stdout",
     "output_type": "stream",
     "text": [
      "5 3\n"
     ]
    }
   ],
   "source": [
    "# це визначення змінних\n",
    "a = 5\n",
    "b = 3\n",
    "println(a, ' ', b)"
   ]
  },
  {
   "cell_type": "code",
   "execution_count": 25,
   "metadata": {},
   "outputs": [
    {
     "name": "stdout",
     "output_type": "stream",
     "text": [
      "UndefVarError(:someOtherVar)\n"
     ]
    }
   ],
   "source": [
    "# Змінні потрібно спочатку визначити а потім використовувати\n",
    "# Це обробка помилок\n",
    "try\n",
    "    someOtherVar  # => ERROR: UndefVarError: someOtherVar not defined\n",
    "catch e\n",
    "    println(e)\n",
    "end"
   ]
  },
  {
   "cell_type": "code",
   "execution_count": 27,
   "metadata": {},
   "outputs": [
    {
     "name": "stdout",
     "output_type": "stream",
     "text": [
      "123\n"
     ]
    }
   ],
   "source": [
    "# змінні мають починатись з _ чи латинських літер, а далі щозавгодно\n",
    "_ЇІ = 123\n",
    "println(_ЇІ)"
   ]
  },
  {
   "cell_type": "code",
   "execution_count": 28,
   "metadata": {},
   "outputs": [
    {
     "data": {
      "text/plain": [
       "6.283185307179586"
      ]
     },
     "execution_count": 28,
     "metadata": {},
     "output_type": "execute_result"
    }
   ],
   "source": [
    "#= \n",
    "    навіть unicode символи можуть бути використані, \n",
    "    наприклад для математичних операцій\n",
    "=#\n",
    "\n",
    "2 * π"
   ]
  },
  {
   "cell_type": "code",
   "execution_count": 29,
   "metadata": {},
   "outputs": [
    {
     "name": "stdout",
     "output_type": "stream",
     "text": [
      "Int64[]\n",
      "[4, 5, 6]\n",
      "[4, 5, 6]\n",
      "4\n",
      "6\n"
     ]
    }
   ],
   "source": [
    "# це ініціалізація та використання масивів\n",
    "\n",
    "a = Int64[] # => пустий масив Array{Int64,1}\n",
    "println(a)\n",
    "\n",
    "# ініціалізація із значеннями\n",
    "b = [4, 5, 6] # => Array{Int64,1}: [4, 5, 6]\n",
    "println(b)\n",
    "b = [4; 5; 6] # => Array{Int64,1}: [4, 5, 6]\n",
    "println(b)\n",
    "\n",
    "# індексація з 1\n",
    "println(b[1]) # => 4\n",
    "\n",
    "# отримання останнього елементу\n",
    "println(b[end])  # => 6"
   ]
  },
  {
   "cell_type": "code",
   "execution_count": 30,
   "metadata": {},
   "outputs": [
    {
     "name": "stdout",
     "output_type": "stream",
     "text": [
      "[1 2; 3 4]\n"
     ]
    }
   ],
   "source": [
    "# 2D масиви потрібно прописувати через пробіл чи ;\n",
    "matrix = [1 2; 3 4]\n",
    "println(matrix)"
   ]
  },
  {
   "cell_type": "code",
   "execution_count": 32,
   "metadata": {},
   "outputs": [
    {
     "name": "stdout",
     "output_type": "stream",
     "text": [
      "[1, 2, 4, 3, 4, 5]\n",
      "[1, 2, 4, 3, 4, 5, 1]\n",
      "[1, 2, 4, 3, 4, 5, 1, 2]\n",
      "[1, 2, 4, 3, 4, 5, 1, 2, 4]\n",
      "[1, 2, 4, 3, 4, 5, 1, 2, 4, 3]\n",
      "[1, 2, 4, 3, 4, 5, 1, 2, 4, 3, 4, 5, 6]\n",
      "6\n",
      "[1, 2, 4, 3, 4, 5, 1, 2, 4, 3, 4, 5]\n",
      "1\n",
      "[2, 4, 3, 4, 5, 1, 2, 4, 3, 4, 5]\n"
     ]
    },
    {
     "data": {
      "text/plain": [
       "12-element Array{Int64,1}:\n",
       " 7\n",
       " 2\n",
       " 4\n",
       " 3\n",
       " 4\n",
       " 5\n",
       " 1\n",
       " 2\n",
       " 4\n",
       " 3\n",
       " 4\n",
       " 5"
      ]
     },
     "execution_count": 32,
     "metadata": {},
     "output_type": "execute_result"
    }
   ],
   "source": [
    "# приєдання в кінець\n",
    "println(a)\n",
    "push!(a, 1)    # => [1]\n",
    "println(a)\n",
    "push!(a, 2)    # => [1,2]\n",
    "println(a)\n",
    "push!(a, 4)    # => [1,2,4]\n",
    "println(a)\n",
    "push!(a, 3)    # => [1,2,4,3]\n",
    "println(a)\n",
    "\n",
    "# об'єднання масивів\n",
    "append!(a, b)  # => [1,2,4,3,4,5,6]\n",
    "println(a)\n",
    "\n",
    "# видалення з кінця і повернення видаленого елементу\n",
    "println(pop!(a))\n",
    "println(a)\n",
    "\n",
    "# видалення з початку і повернення\n",
    "println(popfirst!(a)) \n",
    "println(a)\n",
    "\n",
    "# приєднання в початок\n",
    "pushfirst!(a, 7)\n",
    "a"
   ]
  },
  {
   "cell_type": "code",
   "execution_count": 34,
   "metadata": {},
   "outputs": [
    {
     "name": "stdout",
     "output_type": "stream",
     "text": [
      "[8, 9, 1, 7, 11]\t[1, 7, 8, 9, 11]\t[8, 9, 1, 7, 11]\n",
      "[8, 9, 1, 7, 11]\t[1, 7, 8, 9, 11]\n"
     ]
    }
   ],
   "source": [
    "# ! символ позначає, що функція змінює передані їй дані\n",
    "\n",
    "a = [8, 9, 1, 7, 11]\n",
    "println(a, '\\t', sort(a), '\\t', a)\n",
    "\n",
    "print(a, '\\t')\n",
    "sort!(a)\n",
    "println(a)"
   ]
  },
  {
   "cell_type": "code",
   "execution_count": 35,
   "metadata": {},
   "outputs": [
    {
     "name": "stdout",
     "output_type": "stream",
     "text": [
      "[1, 2, 3, 4, 5]\n",
      "UnitRange{Int64}[1:5]\n",
      "[1, 2, 3]\n",
      "[2, 3, 4, 5]\n"
     ]
    }
   ],
   "source": [
    "# масиви можна ініціалізувати з певних множин\n",
    "a = [1:5;]  # => 5-елементний Array{Int64,1}: [1,2,3,4,5]\n",
    "a2 = [1:5]  # => 1-елементний Array{UnitRange{Int64},1}: [1:5]\n",
    "\n",
    "println(a)\n",
    "println(a2)\n",
    "\n",
    "# наявні слайси, як у Python\n",
    "println(a[1:3])  # => [1, 2, 3]\n",
    "println(a[2:end])  # => [2, 3, 4, 5]"
   ]
  },
  {
   "cell_type": "code",
   "execution_count": 36,
   "metadata": {},
   "outputs": [
    {
     "name": "stdout",
     "output_type": "stream",
     "text": [
      "[5, 6, 7]\n",
      "6\n",
      "[5, 7]\n"
     ]
    }
   ],
   "source": [
    "a = [5, 6, 7]\n",
    "println(a)\n",
    "println(splice!(a, 2))\n",
    "println(a)"
   ]
  },
  {
   "cell_type": "code",
   "execution_count": 37,
   "metadata": {},
   "outputs": [
    {
     "name": "stdout",
     "output_type": "stream",
     "text": [
      "true\n",
      "2\n"
     ]
    }
   ],
   "source": [
    "# перевірка наявності у масиві\n",
    "println(in(5, a))  # => true\n",
    "\n",
    "# визначення довжини\n",
    "println(length(a))"
   ]
  },
  {
   "cell_type": "code",
   "execution_count": 38,
   "metadata": {},
   "outputs": [
    {
     "name": "stdout",
     "output_type": "stream",
     "text": [
      "(1, 2, 3)\n",
      "Tuple{Int64,Int64,Int64}\n",
      "1\n",
      "MethodError(setindex!, ((1, 2, 3), 3, 1), 0x00000000000068ab)\n"
     ]
    }
   ],
   "source": [
    "# Є тип тюпли (кортежі). Він є незмінним\n",
    "\n",
    "tup = (1, 2, 3)\n",
    "println(tup)\n",
    "\n",
    "println(typeof(tup)) # => Tuple{Int64,Int64,Int64}\n",
    "println(tup[1]) # => 1\n",
    "try\n",
    "    tup[1] = 3\n",
    "catch e\n",
    "    println(e)\n",
    "end"
   ]
  },
  {
   "cell_type": "code",
   "execution_count": 41,
   "metadata": {},
   "outputs": [
    {
     "name": "stdout",
     "output_type": "stream",
     "text": [
      "1 2 3\n",
      "4 5 6\n"
     ]
    }
   ],
   "source": [
    "# тюпли розпаковуються в змінні, як у Python\n",
    "\n",
    "a, b, c = (1, 2, 3)\n",
    "println(a, ' ', b, ' ', c)\n",
    "\n",
    "# це спрацює навіть без дужок\n",
    "d, e, f = 4, 5, 6\n",
    "println(d, ' ', e, ' ', f)"
   ]
  },
  {
   "cell_type": "code",
   "execution_count": 42,
   "metadata": {},
   "outputs": [
    {
     "name": "stdout",
     "output_type": "stream",
     "text": [
      "3\n",
      "(1, 2)\n",
      "true\n"
     ]
    }
   ],
   "source": [
    "# більшість фукнцій для масивів працюють і для тюплів\n",
    "\n",
    "println(length(tup)) # => 3\n",
    "println(tup[1:2])    # => (1,2)\n",
    "println(in(2, tup))"
   ]
  },
  {
   "cell_type": "code",
   "execution_count": 44,
   "metadata": {},
   "outputs": [
    {
     "name": "stdout",
     "output_type": "stream",
     "text": [
      "4 5\n",
      "5 4\n"
     ]
    }
   ],
   "source": [
    "# тюпли полегшують заміну значень\n",
    "println(e, ' ', d)\n",
    "e, d = d, e\n",
    "println(e, ' ', d)"
   ]
  },
  {
   "cell_type": "code",
   "execution_count": 45,
   "metadata": {},
   "outputs": [
    {
     "name": "stdout",
     "output_type": "stream",
     "text": [
      "Dict{Any,Any}()\n",
      "Dict(\"two\" => 2,\"one\" => 1,\"three\" => 3)\n",
      "1\n"
     ]
    }
   ],
   "source": [
    "# у Julia також наявні словники\n",
    "emptyDict = Dict()\n",
    "println(emptyDict)\n",
    "\n",
    "filledDict = Dict(\"one\" => 1, \"two\" => 2, \"three\" => 3)\n",
    "println(filledDict)\n",
    "\n",
    "println(filledDict[\"one\"])"
   ]
  },
  {
   "cell_type": "code",
   "execution_count": 47,
   "metadata": {},
   "outputs": [
    {
     "name": "stdout",
     "output_type": "stream",
     "text": [
      "[\"two\", \"one\", \"three\"]\n",
      "[2, 1, 3]\n"
     ]
    }
   ],
   "source": [
    "# можна отримати усі ключі та значення\n",
    "println(keys(filledDict))\n",
    "println(values(filledDict))"
   ]
  },
  {
   "cell_type": "code",
   "execution_count": 49,
   "metadata": {},
   "outputs": [
    {
     "name": "stdout",
     "output_type": "stream",
     "text": [
      "KeyError(\"four\")\n",
      "1\n",
      "4\n"
     ]
    }
   ],
   "source": [
    "# звернення до неіснуючого ключа схоже на Python\n",
    "\n",
    "try\n",
    "    filledDict[\"four\"]\n",
    "catch e\n",
    "    println(e)\n",
    "end\n",
    "\n",
    "#= \n",
    "    якщо ви невпевнені чи існує такий ключ, то використайте метод get\n",
    "    другий параметр - значення, яке буде повернуте, якщо ключ не існує\n",
    "=#\n",
    "println(get(filledDict, \"one\", 4))\n",
    "println(get(filledDict, \"four\", 4))"
   ]
  },
  {
   "cell_type": "code",
   "execution_count": 50,
   "metadata": {},
   "outputs": [
    {
     "name": "stdout",
     "output_type": "stream",
     "text": [
      "Set(Any[])\n",
      "Set([4, 2, 3, 1])\n"
     ]
    }
   ],
   "source": [
    "#= \n",
    "    наявні множини - невпрорядковані масиви унікальних значень\n",
    "    більшість їх функцій аналогічні масивам\n",
    "=#\n",
    "\n",
    "emptySet = Set()\n",
    "println(emptySet)\n",
    "filledSet = Set([1, 2, 2, 3, 4])\n",
    "println(filledSet)"
   ]
  },
  {
   "cell_type": "code",
   "execution_count": 51,
   "metadata": {},
   "outputs": [
    {
     "name": "stdout",
     "output_type": "stream",
     "text": [
      "Set([4, 3, 5, 6])\n",
      "Set([4, 3])\n",
      "Set([4, 2, 3, 5, 6, 1])\n",
      "Set([4, 1])\n"
     ]
    }
   ],
   "source": [
    "# проілюструємо класичні операції над множинами\n",
    "\n",
    "otherSet = Set([3, 4, 5, 6])\n",
    "println(otherSet)\n",
    "\n",
    "println(intersect(filledSet, otherSet)) # перетин\n",
    "println(union(filledSet, otherSet)) # об'єднання\n",
    "println(setdiff(Set([1,2,3,4]), Set([2,3,5]))) # різниця"
   ]
  },
  {
   "cell_type": "markdown",
   "metadata": {},
   "source": [
    "# Цикли та умови"
   ]
  },
  {
   "cell_type": "code",
   "execution_count": 52,
   "metadata": {},
   "outputs": [
    {
     "name": "stdout",
     "output_type": "stream",
     "text": [
      "someVar менше 10.\n"
     ]
    }
   ],
   "source": [
    "someVar = 5\n",
    "\n",
    "#= \n",
    "    це звичайний if/else if/else вираз у Julia\n",
    "    розмітка коду неважлива, навідміну від Python\n",
    "=#\n",
    "if someVar > 10\n",
    "    println(\"someVar більше 10.\")\n",
    "elseif someVar < 10\n",
    "    println(\"someVar менше 10.\")\n",
    "else\n",
    "    println(\"someVar справді 10.\")\n",
    "end"
   ]
  },
  {
   "cell_type": "code",
   "execution_count": 53,
   "metadata": {},
   "outputs": [
    {
     "name": "stdout",
     "output_type": "stream",
     "text": [
      "0\n",
      "1\n",
      "2\n",
      "3\n"
     ]
    }
   ],
   "source": [
    "# так пишеться звичайний while цикл у Julia\n",
    "\n",
    "let x = 0\n",
    "    while x < 4\n",
    "        println(x)\n",
    "        x += 1\n",
    "    end\n",
    "end"
   ]
  },
  {
   "cell_type": "code",
   "execution_count": 54,
   "metadata": {},
   "outputs": [
    {
     "name": "stdout",
     "output_type": "stream",
     "text": [
      "dog\n",
      "cat\n",
      "mouse\n"
     ]
    }
   ],
   "source": [
    "# for цикли обходять ітерабельні об'єкти\n",
    "\n",
    "for animal = [\"dog\", \"cat\", \"mouse\"]\n",
    "    println(\"$animal\")\n",
    "end"
   ]
  },
  {
   "cell_type": "code",
   "execution_count": 55,
   "metadata": {},
   "outputs": [
    {
     "name": "stdout",
     "output_type": "stream",
     "text": [
      "dog\n",
      "cat\n",
      "mouse\n"
     ]
    }
   ],
   "source": [
    "# = можна замінити на in\n",
    "\n",
    "for animal in [\"dog\", \"cat\", \"mouse\"]\n",
    "    println(\"$animal\")\n",
    "end"
   ]
  },
  {
   "cell_type": "code",
   "execution_count": 56,
   "metadata": {},
   "outputs": [
    {
     "name": "stdout",
     "output_type": "stream",
     "text": [
      "mouse = mammal\n",
      "cat = mammal\n",
      "dog = mammal\n",
      "\n",
      "mouse = mammal\n",
      "cat = mammal\n",
      "dog = mammal\n"
     ]
    }
   ],
   "source": [
    "# ось способи обійти словник за рахунок тюплів\n",
    "\n",
    "for pair in Dict(\"dog\" => \"mammal\", \"cat\" => \"mammal\", \"mouse\" => \"mammal\")\n",
    "    from, to = pair\n",
    "    println(\"$from = $to\")\n",
    "end\n",
    "\n",
    "println()\n",
    "\n",
    "for (k, v) in Dict(\"dog\" => \"mammal\", \"cat\" => \"mammal\", \"mouse\" => \"mammal\")\n",
    "    println(\"$k = $v\")\n",
    "end"
   ]
  },
  {
   "cell_type": "markdown",
   "metadata": {},
   "source": [
    "# Функції"
   ]
  },
  {
   "cell_type": "code",
   "execution_count": 59,
   "metadata": {},
   "outputs": [
    {
     "name": "stdout",
     "output_type": "stream",
     "text": [
      "x = 2 і y = 2\n"
     ]
    },
    {
     "data": {
      "text/plain": [
       "4"
      ]
     },
     "execution_count": 59,
     "metadata": {},
     "output_type": "execute_result"
    }
   ],
   "source": [
    "#= Синтаксис функцій\n",
    "\n",
    "function name(arglist)\n",
    "   body...\n",
    "end\n",
    "\n",
    "=#\n",
    "\n",
    "function add(x, y)\n",
    "    println(\"x = $x і y = $y\")\n",
    "\n",
    "    #= \n",
    "        Функції повертають значення останнього твердження, \n",
    "        тож return не обов'язковий\n",
    "    =#\n",
    "    x + y\n",
    "end\n",
    "\n",
    "add(2, 2)"
   ]
  },
  {
   "cell_type": "code",
   "execution_count": 61,
   "metadata": {},
   "outputs": [
    {
     "data": {
      "text/plain": [
       "4"
      ]
     },
     "execution_count": 61,
     "metadata": {},
     "output_type": "execute_result"
    }
   ],
   "source": [
    "# Функції такожж можна створити таким чином:\n",
    "f_add(x, y) = x + y\n",
    "f_add(2, 2)"
   ]
  },
  {
   "cell_type": "code",
   "execution_count": 63,
   "metadata": {},
   "outputs": [
    {
     "data": {
      "text/plain": [
       "(4, 0)"
      ]
     },
     "execution_count": 63,
     "metadata": {},
     "output_type": "execute_result"
    }
   ],
   "source": [
    "# Функція може повертати декілька значень\n",
    "fn(x, y) = x + y, x - y\n",
    "fn(2, 2)"
   ]
  },
  {
   "cell_type": "code",
   "execution_count": 65,
   "metadata": {},
   "outputs": [
    {
     "data": {
      "text/plain": [
       "(1, 2, 3, 3, 4)"
      ]
     },
     "execution_count": 65,
     "metadata": {},
     "output_type": "execute_result"
    }
   ],
   "source": [
    "# можна передавати багато неіменованих параметрів\n",
    "function varargs(args...)\n",
    "    return args\n",
    "end\n",
    "\n",
    "varargs(1,2,3,3,4)"
   ]
  },
  {
   "cell_type": "code",
   "execution_count": 66,
   "metadata": {},
   "outputs": [
    {
     "name": "stdout",
     "output_type": "stream",
     "text": [
      "5 6\n",
      "1 2\n"
     ]
    }
   ],
   "source": [
    "function defaults(x=5, y=6)\n",
    "    \"$x $y\"\n",
    "end\n",
    "\n",
    "println(defaults())\n",
    "println(defaults(1, 2))"
   ]
  },
  {
   "cell_type": "code",
   "execution_count": 67,
   "metadata": {},
   "outputs": [
    {
     "data": {
      "text/plain": [
       "Dict{String,Any} with 2 entries:\n",
       "  \"name2\" => \"hello\"\n",
       "  \"k1\"    => 5"
      ]
     },
     "execution_count": 67,
     "metadata": {},
     "output_type": "execute_result"
    }
   ],
   "source": [
    "# функції можуть мати аргументи з ключами, потрібно вказати ; перед ними\n",
    "# усі типи аргументів можна комбінувати між собою\n",
    "\n",
    "function kwargs(;k1=4, name2=\"hello\")\n",
    "    return Dict(\"k1\" => k1, \"name2\" => name2)\n",
    "end\n",
    "\n",
    "kwargs(k1=5)"
   ]
  },
  {
   "cell_type": "code",
   "execution_count": 68,
   "metadata": {},
   "outputs": [
    {
     "data": {
      "text/plain": [
       "true"
      ]
     },
     "execution_count": 68,
     "metadata": {},
     "output_type": "execute_result"
    }
   ],
   "source": [
    "# це синтаксис для анонімних функцій\n",
    "(x -> x > 2)(3)"
   ]
  },
  {
   "cell_type": "code",
   "execution_count": 69,
   "metadata": {},
   "outputs": [
    {
     "data": {
      "text/plain": [
       "create_adder (generic function with 1 method)"
      ]
     },
     "execution_count": 69,
     "metadata": {},
     "output_type": "execute_result"
    }
   ],
   "source": [
    "# можна створювати внутрішні функції і повертати функції\n",
    "\n",
    "function create_adder(x)\n",
    "    function adder(y)\n",
    "        x + y\n",
    "    end\n",
    "    adder\n",
    "end"
   ]
  },
  {
   "cell_type": "code",
   "execution_count": 71,
   "metadata": {},
   "outputs": [
    {
     "name": "stdout",
     "output_type": "stream",
     "text": [
      "[11, 12, 13]\n",
      "[6, 7]\n"
     ]
    }
   ],
   "source": [
    "# у мову вбудовані деякі функції вищого порядку\n",
    "\n",
    "add_10 = create_adder(10)\n",
    "\n",
    "println(map(add_10, [1,2,3]))\n",
    "println(filter(x -> x > 5, [3, 4, 5, 6, 7]))"
   ]
  },
  {
   "cell_type": "code",
   "execution_count": 72,
   "metadata": {},
   "outputs": [
    {
     "name": "stdout",
     "output_type": "stream",
     "text": [
      "[11, 12, 13]\n",
      "[6, 7]\n"
     ]
    }
   ],
   "source": [
    "# Julia має обходи масивів як і Python\n",
    "\n",
    "println([add_10(i) for i in [1, 2, 3]])\n",
    "println([x for x in [3, 4, 5, 6, 7] if x > 5])"
   ]
  },
  {
   "cell_type": "markdown",
   "metadata": {},
   "source": [
    "# Класси та структури"
   ]
  },
  {
   "cell_type": "code",
   "execution_count": 73,
   "metadata": {},
   "outputs": [
    {
     "name": "stdout",
     "output_type": "stream",
     "text": [
      "Tiger(3.5, \"orange\")\n"
     ]
    }
   ],
   "source": [
    "# Julia також дозволяє створювати класи/структури\n",
    "\n",
    "# struct Name\n",
    "#   field::OptionalType\n",
    "#   ...\n",
    "# end\n",
    "\n",
    "struct Tiger\n",
    "    taillength::Float64\n",
    "    coatcolor  # такий запис задає тип `::Any`\n",
    "end\n",
    "\n",
    "# конструктор генерується автоматично\n",
    "tigger = Tiger(3.5, \"orange\")\n",
    "println(tigger)"
   ]
  },
  {
   "cell_type": "code",
   "execution_count": 74,
   "metadata": {},
   "outputs": [
    {
     "name": "stdout",
     "output_type": "stream",
     "text": [
      "Any[String, SubString, SubstitutionString, Test.GenericString]\n",
      "Signed\n"
     ]
    }
   ],
   "source": [
    "# можна отримати субтипи і супертипи\n",
    "\n",
    "println(subtypes(AbstractString))\n",
    "println(supertype(Int64))"
   ]
  },
  {
   "cell_type": "code",
   "execution_count": 75,
   "metadata": {},
   "outputs": [],
   "source": [
    "# класи також можна створити таким чином\n",
    "\n",
    "abstract type Cat end"
   ]
  },
  {
   "cell_type": "code",
   "execution_count": 76,
   "metadata": {},
   "outputs": [],
   "source": [
    "struct Panther <: Cat  # наслідування\n",
    "    eyeColor\n",
    "    Panther() = new(\"green\")\n",
    "    # Panther матиме лише такий конструктор, а не стандартний\n",
    "end"
   ]
  }
 ],
 "metadata": {
  "kernelspec": {
   "display_name": "Julia 1.3.0",
   "language": "julia",
   "name": "julia-1.3"
  },
  "language_info": {
   "file_extension": ".jl",
   "mimetype": "application/julia",
   "name": "julia",
   "version": "1.3.0"
  }
 },
 "nbformat": 4,
 "nbformat_minor": 2
}
